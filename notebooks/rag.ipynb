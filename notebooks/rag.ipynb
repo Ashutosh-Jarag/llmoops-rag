{
 "cells": [
  {
   "cell_type": "code",
   "execution_count": 1,
   "id": "dac54ccc",
   "metadata": {},
   "outputs": [
    {
     "name": "stderr",
     "output_type": "stream",
     "text": [
      "/home/ashutosh/Desktop/GenAI/LLMOops/rag-lloops/.venv/lib/python3.12/site-packages/tqdm/auto.py:21: TqdmWarning: IProgress not found. Please update jupyter and ipywidgets. See https://ipywidgets.readthedocs.io/en/stable/user_install.html\n",
      "  from .autonotebook import tqdm as notebook_tqdm\n"
     ]
    }
   ],
   "source": [
    "import os\n",
    "from dotenv import load_dotenv\n",
    "import google.generativeai as genai\n",
    "from langchain_google_genai import GoogleGenerativeAIEmbeddings\n"
   ]
  },
  {
   "cell_type": "markdown",
   "id": "b54553be",
   "metadata": {},
   "source": [
    "# Data Injestion"
   ]
  },
  {
   "cell_type": "code",
   "execution_count": 2,
   "id": "61ae050a",
   "metadata": {},
   "outputs": [],
   "source": [
    "from langchain.document_loaders import TextLoader"
   ]
  },
  {
   "cell_type": "code",
   "execution_count": 3,
   "id": "0ffb3798",
   "metadata": {},
   "outputs": [],
   "source": [
    "loader = TextLoader(\"/home/ashutosh/Desktop/GenAI/LLMOops/rag-lloops/data/agentic-ai.txt\", encoding='utf8')\n",
    "documents=loader.load()"
   ]
  },
  {
   "cell_type": "code",
   "execution_count": 4,
   "id": "d8e961c4",
   "metadata": {},
   "outputs": [
    {
     "data": {
      "text/plain": [
       "Document(metadata={'source': '/home/ashutosh/Desktop/GenAI/LLMOops/rag-lloops/data/agentic-ai.txt'}, page_content='Agentic AI: The Evolution of Autonomous Intelligence\\n\\nIntroduction\\n\\nArtificial Intelligence (AI) has undergone a remarkable transformation in recent years, evolving from simple rule-based systems to sophisticated models capable of complex reasoning and decision-making. Among the most exciting developments in this field is the emergence of Agentic AI, a paradigm where AI systems exhibit autonomous, goal-directed behavior, acting as independent agents capable of perceiving their environment, making decisions, and executing actions to achieve specific objectives. Unlike traditional AI systems that rely heavily on human input or predefined scripts, agentic AI systems possess a degree of autonomy, adaptability, and proactivity, enabling them to operate in dynamic and unpredictable environments.\\n\\nThis essay explores the concept of agentic AI, delving into its definition, characteristics, underlying technologies, applications, ethical implications, and future potential. Spanning approximately 5,000 words, this comprehensive analysis aims to provide a thorough understanding of agentic AI and its transformative impact on various domains, from industry to society at large.\\n\\nDefining Agentic AI\\n\\nAgentic AI refers to artificial intelligence systems designed to act as autonomous agents with the ability to pursue goals independently, adapt to changing circumstances, and interact with their environments in a purposeful manner. The term \"agentic\" derives from the concept of agency, which in philosophy and psychology refers to an entity\\'s capacity to act intentionally and influence its surroundings. In the context of AI, agency implies that the system can make decisions, learn from experience, and execute actions without constant human supervision.\\n\\nKey Characteristics of Agentic AI\\n\\nAgentic AI systems are distinguished by several core characteristics:\\n\\n\\n\\n\\n\\nAutonomy: Agentic AI can operate independently, making decisions based on its goals and environmental inputs without requiring explicit human instructions for every action.\\n\\n\\n\\nGoal-Directed Behavior: These systems are designed to pursue specific objectives, whether short-term (e.g., completing a task) or long-term (e.g., optimizing a process over time).\\n\\n\\n\\nAdaptability: Agentic AI can learn from its environment, updating its knowledge and strategies to handle new or unforeseen situations.\\n\\n\\n\\nProactivity: Unlike reactive systems that respond only to immediate stimuli, agentic AI anticipates future states and takes initiative to achieve desired outcomes.\\n\\n\\n\\nInteraction with Environments: Agentic AI engages with physical or digital environments, using sensors, actuators, or data interfaces to perceive and act upon the world.\\n\\n\\n\\nReasoning and Decision-Making: These systems employ advanced reasoning capabilities, often integrating multiple data sources and models to make informed decisions.\\n\\nAgentic AI vs. Traditional AI\\n\\nTraditional AI systems, such as rule-based expert systems or early machine learning models, typically operate within narrow, predefined boundaries. For example, a traditional AI might excel at image recognition but lack the ability to adapt to new tasks outside its training scope. In contrast, agentic AI is designed to be more general-purpose, capable of handling diverse tasks by reasoning, learning, and adapting in real time. This shift from narrow to general intelligence is a hallmark of agentic AI, aligning it closer to the concept of Artificial General Intelligence (AGI), though most current agentic systems remain task-specific.\\n\\nThe Technological Foundations of Agentic AI\\n\\nAgentic AI is built upon a combination of advanced technologies that enable its autonomous and adaptive capabilities. These include:\\n\\n1. Machine Learning and Deep Learning\\n\\nMachine learning (ML) and deep learning (DL) form the backbone of agentic AI, enabling systems to learn patterns, make predictions, and improve performance over time. Reinforcement learning (RL), a subset of ML, is particularly critical for agentic AI. In RL, an agent learns by interacting with its environment, receiving rewards or penalties based on its actions. This trial-and-error approach allows the agent to optimize its behavior to achieve specific goals, making it well-suited for tasks requiring autonomy and adaptability.\\n\\nFor example, DeepMind’s AlphaGo used reinforcement learning to master the game of Go, autonomously exploring strategies and improving its performance through simulated games. Similarly, agentic AI systems in robotics or autonomous vehicles rely on RL to navigate complex environments.\\n\\n2. Natural Language Processing (NLP)\\n\\nNatural Language Processing enables agentic AI to understand and generate human language, facilitating seamless interaction with users and other systems. Advanced NLP models, such as large language models (LLMs) like GPT-4 or Grok, empower agentic AI to interpret complex instructions, engage in dialogue, and generate contextually relevant responses. For instance, an agentic AI assistant might use NLP to interpret a user’s vague request, clarify ambiguities, and execute a multi-step task.\\n\\n3. Computer Vision\\n\\nComputer vision allows agentic AI to perceive and interpret visual information from the environment, such as images, videos, or sensor data. This capability is essential for applications like autonomous vehicles, drones, or robotic assistants, where the AI must navigate physical spaces, avoid obstacles, and recognize objects. Techniques like convolutional neural networks (CNNs) and object detection algorithms enable robust visual perception.\\n\\n4. Multi-Agent Systems\\n\\nIn many scenarios, agentic AI operates as part of a multi-agent system, where multiple AI agents collaborate or compete to achieve collective or individual goals. For example, in supply chain optimization, multiple agentic AI systems might coordinate to manage inventory, logistics, and demand forecasting. Multi-agent systems rely on communication protocols, game theory, and distributed computing to ensure efficient collaboration.\\n\\n5. Knowledge Representation and Reasoning\\n\\nAgentic AI often incorporates knowledge representation techniques, such as ontologies or knowledge graphs, to store and organize information about the world. Combined with reasoning algorithms, these systems can draw inferences, make decisions, and solve problems in a structured manner. For example, an agentic AI in healthcare might use a knowledge graph to reason about patient symptoms, medical histories, and treatment options.\\n\\n6. Sensor and Actuator Integration\\n\\nFor physical applications, agentic AI integrates with sensors (e.g., cameras, LIDAR, or temperature sensors) to perceive the environment and actuators (e.g., motors, robotic arms) to perform actions. This hardware-software integration is critical for applications like robotics, where the AI must interact with the physical world in real time.')"
      ]
     },
     "execution_count": 4,
     "metadata": {},
     "output_type": "execute_result"
    }
   ],
   "source": [
    "documents[0]"
   ]
  },
  {
   "cell_type": "code",
   "execution_count": 5,
   "id": "a0c48c0c",
   "metadata": {},
   "outputs": [
    {
     "data": {
      "text/plain": [
       "'Agentic AI: The Evolution of Autonomous Intelligence\\n\\nIntroduction\\n\\nArtificial Intelligence (AI) has undergone a remarkable transformation in recent years, evolving from simple rule-based systems to sophisticated models capable of complex reasoning and decision-making. Among the most exciting developments in this field is the emergence of Agentic AI, a paradigm where AI systems exhibit autonomous, goal-directed behavior, acting as independent agents capable of perceiving their environment, makin'"
      ]
     },
     "execution_count": 5,
     "metadata": {},
     "output_type": "execute_result"
    }
   ],
   "source": [
    "documents[0].page_content[:500]"
   ]
  },
  {
   "cell_type": "markdown",
   "id": "f50ea3fc",
   "metadata": {},
   "source": [
    "# Chucking"
   ]
  },
  {
   "cell_type": "code",
   "execution_count": 6,
   "id": "e298622e",
   "metadata": {},
   "outputs": [],
   "source": [
    "from langchain.text_splitter import RecursiveCharacterTextSplitter"
   ]
  },
  {
   "cell_type": "code",
   "execution_count": 7,
   "id": "5232d657",
   "metadata": {},
   "outputs": [],
   "source": [
    "text_splitter = RecursiveCharacterTextSplitter(\n",
    "    chunk_size=200,  \n",
    "    chunk_overlap=20  \n",
    ")"
   ]
  },
  {
   "cell_type": "code",
   "execution_count": 8,
   "id": "87b0fcc5",
   "metadata": {},
   "outputs": [],
   "source": [
    "text_chunks=text_splitter.split_documents(documents)"
   ]
  },
  {
   "cell_type": "code",
   "execution_count": 9,
   "id": "8e3a868b",
   "metadata": {},
   "outputs": [
    {
     "data": {
      "text/plain": [
       "[Document(metadata={'source': '/home/ashutosh/Desktop/GenAI/LLMOops/rag-lloops/data/agentic-ai.txt'}, page_content='Agentic AI: The Evolution of Autonomous Intelligence\\n\\nIntroduction'),\n",
       " Document(metadata={'source': '/home/ashutosh/Desktop/GenAI/LLMOops/rag-lloops/data/agentic-ai.txt'}, page_content='Artificial Intelligence (AI) has undergone a remarkable transformation in recent years, evolving from simple rule-based systems to sophisticated models capable of complex reasoning and'),\n",
       " Document(metadata={'source': '/home/ashutosh/Desktop/GenAI/LLMOops/rag-lloops/data/agentic-ai.txt'}, page_content='reasoning and decision-making. Among the most exciting developments in this field is the emergence of Agentic AI, a paradigm where AI systems exhibit autonomous, goal-directed behavior, acting as'),\n",
       " Document(metadata={'source': '/home/ashutosh/Desktop/GenAI/LLMOops/rag-lloops/data/agentic-ai.txt'}, page_content='behavior, acting as independent agents capable of perceiving their environment, making decisions, and executing actions to achieve specific objectives. Unlike traditional AI systems that rely heavily'),\n",
       " Document(metadata={'source': '/home/ashutosh/Desktop/GenAI/LLMOops/rag-lloops/data/agentic-ai.txt'}, page_content='that rely heavily on human input or predefined scripts, agentic AI systems possess a degree of autonomy, adaptability, and proactivity, enabling them to operate in dynamic and unpredictable'),\n",
       " Document(metadata={'source': '/home/ashutosh/Desktop/GenAI/LLMOops/rag-lloops/data/agentic-ai.txt'}, page_content='and unpredictable environments.'),\n",
       " Document(metadata={'source': '/home/ashutosh/Desktop/GenAI/LLMOops/rag-lloops/data/agentic-ai.txt'}, page_content='This essay explores the concept of agentic AI, delving into its definition, characteristics, underlying technologies, applications, ethical implications, and future potential. Spanning approximately'),\n",
       " Document(metadata={'source': '/home/ashutosh/Desktop/GenAI/LLMOops/rag-lloops/data/agentic-ai.txt'}, page_content='approximately 5,000 words, this comprehensive analysis aims to provide a thorough understanding of agentic AI and its transformative impact on various domains, from industry to society at large.'),\n",
       " Document(metadata={'source': '/home/ashutosh/Desktop/GenAI/LLMOops/rag-lloops/data/agentic-ai.txt'}, page_content='Defining Agentic AI'),\n",
       " Document(metadata={'source': '/home/ashutosh/Desktop/GenAI/LLMOops/rag-lloops/data/agentic-ai.txt'}, page_content='Agentic AI refers to artificial intelligence systems designed to act as autonomous agents with the ability to pursue goals independently, adapt to changing circumstances, and interact with their'),\n",
       " Document(metadata={'source': '/home/ashutosh/Desktop/GenAI/LLMOops/rag-lloops/data/agentic-ai.txt'}, page_content='interact with their environments in a purposeful manner. The term \"agentic\" derives from the concept of agency, which in philosophy and psychology refers to an entity\\'s capacity to act intentionally'),\n",
       " Document(metadata={'source': '/home/ashutosh/Desktop/GenAI/LLMOops/rag-lloops/data/agentic-ai.txt'}, page_content='act intentionally and influence its surroundings. In the context of AI, agency implies that the system can make decisions, learn from experience, and execute actions without constant human'),\n",
       " Document(metadata={'source': '/home/ashutosh/Desktop/GenAI/LLMOops/rag-lloops/data/agentic-ai.txt'}, page_content='constant human supervision.'),\n",
       " Document(metadata={'source': '/home/ashutosh/Desktop/GenAI/LLMOops/rag-lloops/data/agentic-ai.txt'}, page_content='Key Characteristics of Agentic AI\\n\\nAgentic AI systems are distinguished by several core characteristics:'),\n",
       " Document(metadata={'source': '/home/ashutosh/Desktop/GenAI/LLMOops/rag-lloops/data/agentic-ai.txt'}, page_content='Autonomy: Agentic AI can operate independently, making decisions based on its goals and environmental inputs without requiring explicit human instructions for every action.'),\n",
       " Document(metadata={'source': '/home/ashutosh/Desktop/GenAI/LLMOops/rag-lloops/data/agentic-ai.txt'}, page_content='Goal-Directed Behavior: These systems are designed to pursue specific objectives, whether short-term (e.g., completing a task) or long-term (e.g., optimizing a process over time).'),\n",
       " Document(metadata={'source': '/home/ashutosh/Desktop/GenAI/LLMOops/rag-lloops/data/agentic-ai.txt'}, page_content='Adaptability: Agentic AI can learn from its environment, updating its knowledge and strategies to handle new or unforeseen situations.'),\n",
       " Document(metadata={'source': '/home/ashutosh/Desktop/GenAI/LLMOops/rag-lloops/data/agentic-ai.txt'}, page_content='Proactivity: Unlike reactive systems that respond only to immediate stimuli, agentic AI anticipates future states and takes initiative to achieve desired outcomes.'),\n",
       " Document(metadata={'source': '/home/ashutosh/Desktop/GenAI/LLMOops/rag-lloops/data/agentic-ai.txt'}, page_content='Interaction with Environments: Agentic AI engages with physical or digital environments, using sensors, actuators, or data interfaces to perceive and act upon the world.'),\n",
       " Document(metadata={'source': '/home/ashutosh/Desktop/GenAI/LLMOops/rag-lloops/data/agentic-ai.txt'}, page_content='Reasoning and Decision-Making: These systems employ advanced reasoning capabilities, often integrating multiple data sources and models to make informed decisions.\\n\\nAgentic AI vs. Traditional AI'),\n",
       " Document(metadata={'source': '/home/ashutosh/Desktop/GenAI/LLMOops/rag-lloops/data/agentic-ai.txt'}, page_content='Traditional AI systems, such as rule-based expert systems or early machine learning models, typically operate within narrow, predefined boundaries. For example, a traditional AI might excel at image'),\n",
       " Document(metadata={'source': '/home/ashutosh/Desktop/GenAI/LLMOops/rag-lloops/data/agentic-ai.txt'}, page_content='excel at image recognition but lack the ability to adapt to new tasks outside its training scope. In contrast, agentic AI is designed to be more general-purpose, capable of handling diverse tasks by'),\n",
       " Document(metadata={'source': '/home/ashutosh/Desktop/GenAI/LLMOops/rag-lloops/data/agentic-ai.txt'}, page_content='diverse tasks by reasoning, learning, and adapting in real time. This shift from narrow to general intelligence is a hallmark of agentic AI, aligning it closer to the concept of Artificial General'),\n",
       " Document(metadata={'source': '/home/ashutosh/Desktop/GenAI/LLMOops/rag-lloops/data/agentic-ai.txt'}, page_content='Artificial General Intelligence (AGI), though most current agentic systems remain task-specific.'),\n",
       " Document(metadata={'source': '/home/ashutosh/Desktop/GenAI/LLMOops/rag-lloops/data/agentic-ai.txt'}, page_content='The Technological Foundations of Agentic AI\\n\\nAgentic AI is built upon a combination of advanced technologies that enable its autonomous and adaptive capabilities. These include:'),\n",
       " Document(metadata={'source': '/home/ashutosh/Desktop/GenAI/LLMOops/rag-lloops/data/agentic-ai.txt'}, page_content='1. Machine Learning and Deep Learning'),\n",
       " Document(metadata={'source': '/home/ashutosh/Desktop/GenAI/LLMOops/rag-lloops/data/agentic-ai.txt'}, page_content='Machine learning (ML) and deep learning (DL) form the backbone of agentic AI, enabling systems to learn patterns, make predictions, and improve performance over time. Reinforcement learning (RL), a'),\n",
       " Document(metadata={'source': '/home/ashutosh/Desktop/GenAI/LLMOops/rag-lloops/data/agentic-ai.txt'}, page_content='learning (RL), a subset of ML, is particularly critical for agentic AI. In RL, an agent learns by interacting with its environment, receiving rewards or penalties based on its actions. This'),\n",
       " Document(metadata={'source': '/home/ashutosh/Desktop/GenAI/LLMOops/rag-lloops/data/agentic-ai.txt'}, page_content='its actions. This trial-and-error approach allows the agent to optimize its behavior to achieve specific goals, making it well-suited for tasks requiring autonomy and adaptability.'),\n",
       " Document(metadata={'source': '/home/ashutosh/Desktop/GenAI/LLMOops/rag-lloops/data/agentic-ai.txt'}, page_content='For example, DeepMind’s AlphaGo used reinforcement learning to master the game of Go, autonomously exploring strategies and improving its performance through simulated games. Similarly, agentic AI'),\n",
       " Document(metadata={'source': '/home/ashutosh/Desktop/GenAI/LLMOops/rag-lloops/data/agentic-ai.txt'}, page_content='agentic AI systems in robotics or autonomous vehicles rely on RL to navigate complex environments.'),\n",
       " Document(metadata={'source': '/home/ashutosh/Desktop/GenAI/LLMOops/rag-lloops/data/agentic-ai.txt'}, page_content='2. Natural Language Processing (NLP)'),\n",
       " Document(metadata={'source': '/home/ashutosh/Desktop/GenAI/LLMOops/rag-lloops/data/agentic-ai.txt'}, page_content='Natural Language Processing enables agentic AI to understand and generate human language, facilitating seamless interaction with users and other systems. Advanced NLP models, such as large language'),\n",
       " Document(metadata={'source': '/home/ashutosh/Desktop/GenAI/LLMOops/rag-lloops/data/agentic-ai.txt'}, page_content='as large language models (LLMs) like GPT-4 or Grok, empower agentic AI to interpret complex instructions, engage in dialogue, and generate contextually relevant responses. For instance, an agentic AI'),\n",
       " Document(metadata={'source': '/home/ashutosh/Desktop/GenAI/LLMOops/rag-lloops/data/agentic-ai.txt'}, page_content='an agentic AI assistant might use NLP to interpret a user’s vague request, clarify ambiguities, and execute a multi-step task.'),\n",
       " Document(metadata={'source': '/home/ashutosh/Desktop/GenAI/LLMOops/rag-lloops/data/agentic-ai.txt'}, page_content='3. Computer Vision'),\n",
       " Document(metadata={'source': '/home/ashutosh/Desktop/GenAI/LLMOops/rag-lloops/data/agentic-ai.txt'}, page_content='Computer vision allows agentic AI to perceive and interpret visual information from the environment, such as images, videos, or sensor data. This capability is essential for applications like'),\n",
       " Document(metadata={'source': '/home/ashutosh/Desktop/GenAI/LLMOops/rag-lloops/data/agentic-ai.txt'}, page_content='applications like autonomous vehicles, drones, or robotic assistants, where the AI must navigate physical spaces, avoid obstacles, and recognize objects. Techniques like convolutional neural networks'),\n",
       " Document(metadata={'source': '/home/ashutosh/Desktop/GenAI/LLMOops/rag-lloops/data/agentic-ai.txt'}, page_content='neural networks (CNNs) and object detection algorithms enable robust visual perception.'),\n",
       " Document(metadata={'source': '/home/ashutosh/Desktop/GenAI/LLMOops/rag-lloops/data/agentic-ai.txt'}, page_content='4. Multi-Agent Systems'),\n",
       " Document(metadata={'source': '/home/ashutosh/Desktop/GenAI/LLMOops/rag-lloops/data/agentic-ai.txt'}, page_content='In many scenarios, agentic AI operates as part of a multi-agent system, where multiple AI agents collaborate or compete to achieve collective or individual goals. For example, in supply chain'),\n",
       " Document(metadata={'source': '/home/ashutosh/Desktop/GenAI/LLMOops/rag-lloops/data/agentic-ai.txt'}, page_content='in supply chain optimization, multiple agentic AI systems might coordinate to manage inventory, logistics, and demand forecasting. Multi-agent systems rely on communication protocols, game theory,'),\n",
       " Document(metadata={'source': '/home/ashutosh/Desktop/GenAI/LLMOops/rag-lloops/data/agentic-ai.txt'}, page_content='game theory, and distributed computing to ensure efficient collaboration.'),\n",
       " Document(metadata={'source': '/home/ashutosh/Desktop/GenAI/LLMOops/rag-lloops/data/agentic-ai.txt'}, page_content='5. Knowledge Representation and Reasoning'),\n",
       " Document(metadata={'source': '/home/ashutosh/Desktop/GenAI/LLMOops/rag-lloops/data/agentic-ai.txt'}, page_content='Agentic AI often incorporates knowledge representation techniques, such as ontologies or knowledge graphs, to store and organize information about the world. Combined with reasoning algorithms, these'),\n",
       " Document(metadata={'source': '/home/ashutosh/Desktop/GenAI/LLMOops/rag-lloops/data/agentic-ai.txt'}, page_content='algorithms, these systems can draw inferences, make decisions, and solve problems in a structured manner. For example, an agentic AI in healthcare might use a knowledge graph to reason about patient'),\n",
       " Document(metadata={'source': '/home/ashutosh/Desktop/GenAI/LLMOops/rag-lloops/data/agentic-ai.txt'}, page_content='about patient symptoms, medical histories, and treatment options.'),\n",
       " Document(metadata={'source': '/home/ashutosh/Desktop/GenAI/LLMOops/rag-lloops/data/agentic-ai.txt'}, page_content='6. Sensor and Actuator Integration'),\n",
       " Document(metadata={'source': '/home/ashutosh/Desktop/GenAI/LLMOops/rag-lloops/data/agentic-ai.txt'}, page_content='For physical applications, agentic AI integrates with sensors (e.g., cameras, LIDAR, or temperature sensors) to perceive the environment and actuators (e.g., motors, robotic arms) to perform actions.'),\n",
       " Document(metadata={'source': '/home/ashutosh/Desktop/GenAI/LLMOops/rag-lloops/data/agentic-ai.txt'}, page_content='to perform actions. This hardware-software integration is critical for applications like robotics, where the AI must interact with the physical world in real time.')]"
      ]
     },
     "execution_count": 9,
     "metadata": {},
     "output_type": "execute_result"
    }
   ],
   "source": [
    "text_chunks"
   ]
  },
  {
   "cell_type": "code",
   "execution_count": 10,
   "id": "4a936276",
   "metadata": {},
   "outputs": [],
   "source": [
    "from langchain_google_genai import GoogleGenerativeAIEmbeddings\n",
    "from langchain.vectorstores import FAISS"
   ]
  },
  {
   "cell_type": "code",
   "execution_count": 11,
   "id": "74cccdaa",
   "metadata": {},
   "outputs": [
    {
     "name": "stderr",
     "output_type": "stream",
     "text": [
      "WARNING: All log messages before absl::InitializeLog() is called are written to STDERR\n",
      "E0000 00:00:1760421993.834559   17138 alts_credentials.cc:93] ALTS creds ignored. Not running on GCP and untrusted ALTS is not enabled.\n"
     ]
    },
    {
     "name": "stdout",
     "output_type": "stream",
     "text": [
      "Creating new vector store...\n",
      "Vector store created and saved successfully!\n"
     ]
    }
   ],
   "source": [
    "from dotenv import load_dotenv\n",
    "import os\n",
    "import google.generativeai as genai\n",
    "from langchain.document_loaders import TextLoader\n",
    "from langchain.text_splitter import RecursiveCharacterTextSplitter\n",
    "from langchain_google_genai import GoogleGenerativeAIEmbeddings\n",
    "from langchain_community.vectorstores import FAISS\n",
    "\n",
    "# 1. Load Environment Variables\n",
    "load_dotenv()\n",
    "\n",
    "# 2. Configure the generative AI model\n",
    "genai.configure(api_key=os.getenv(\"GOOGLE_API_KEY\"))\n",
    "\n",
    "# 3. Embedding Model Setup\n",
    "embeddings = GoogleGenerativeAIEmbeddings(\n",
    "    model=\"models/embedding-001\"\n",
    ")\n",
    "\n",
    "FAISS_INDEX_PATH = \"faiss_index\"\n",
    "\n",
    "if os.path.exists(FAISS_INDEX_PATH):\n",
    "    # Load the existing vector store\n",
    "    print(\"Loading existing vector store...\")\n",
    "    vectorstore = FAISS.load_local(FAISS_INDEX_PATH, embeddings, allow_dangerous_deserialization=True)\n",
    "    print(\"Vector store loaded successfully!\")\n",
    "else:\n",
    "    # Create and save the vector store if it doesn't exist\n",
    "    print(\"Creating new vector store...\")\n",
    "    # Data Loading and Chunking\n",
    "    loader = TextLoader(\"/home/ashutosh/Desktop/GenAI/LLMOops/rag-lloops/data/agentic-ai.txt\", encoding='utf8')\n",
    "    documents = loader.load()\n",
    "\n",
    "    text_splitter = RecursiveCharacterTextSplitter(\n",
    "        chunk_size=2000,\n",
    "        chunk_overlap=200\n",
    "    )\n",
    "    text_chunks = text_splitter.split_documents(documents)\n",
    "\n",
    "    # Create Vector Store\n",
    "    vectorstore = FAISS.from_documents(text_chunks, embeddings)\n",
    "    vectorstore.save_local(FAISS_INDEX_PATH)\n",
    "    print(\"Vector store created and saved successfully!\")"
   ]
  },
  {
   "cell_type": "code",
   "execution_count": 12,
   "id": "1a801d09",
   "metadata": {},
   "outputs": [
    {
     "data": {
      "text/plain": [
       "<langchain_community.vectorstores.faiss.FAISS at 0x737cec3c1e80>"
      ]
     },
     "execution_count": 12,
     "metadata": {},
     "output_type": "execute_result"
    }
   ],
   "source": [
    "vectorstore"
   ]
  },
  {
   "cell_type": "code",
   "execution_count": 13,
   "id": "286e4427",
   "metadata": {},
   "outputs": [],
   "source": [
    "retriever = vectorstore.as_retriever()"
   ]
  },
  {
   "cell_type": "code",
   "execution_count": 14,
   "id": "f9ad9a2c",
   "metadata": {},
   "outputs": [
    {
     "name": "stdout",
     "output_type": "stream",
     "text": [
      "documents 1\n",
      "Agentic AI: The Evolution of Autonomous Intelligence\n",
      "\n",
      "Introduction\n",
      "\n",
      "Artificial Intelligence (AI) has undergone a remarkable transformation in recent years, evolving from simple rule-based systems to sophisticated models capable of complex reasoning and decision-making. Among the most exciting developments in this field is the emergence of Agentic AI, a paradigm where AI systems exhibit autonomous, goal-directed behavior, acting as independent agents capable of perceiving their environment, making decisions, and executing actions to achieve specific objectives. Unlike traditional AI systems that rely heavily on human input or predefined scripts, agentic AI systems possess a degree of autonomy, adaptability, and proactivity, enabling them to operate in dynamic and unpredictable environments.\n",
      "\n",
      "This essay explores the concept of agentic AI, delving into its definition, characteristics, underlying technologies, applications, ethical implications, and future potential. Spanning approximately 5,000 words, this comprehensive analysis aims to provide a thorough understanding of agentic AI and its transformative impact on various domains, from industry to society at large.\n",
      "\n",
      "Defining Agentic AI\n",
      "\n",
      "Agentic AI refers to artificial intelligence systems designed to act as autonomous agents with the ability to pursue goals independently, adapt to changing circumstances, and interact with their environments in a purposeful manner. The term \"agentic\" derives from the concept of agency, which in philosophy and psychology refers to an entity's capacity to act intentionally and influence its surroundings. In the context of AI, agency implies that the system can make decisions, learn from experience, and execute actions without constant human supervision.\n",
      "\n",
      "Key Characteristics of Agentic AI\n",
      "\n",
      "Agentic AI systems are distinguished by several core characteristics:\n",
      "--------------------------------------------------\n",
      "documents 2\n",
      "Key Characteristics of Agentic AI\n",
      "\n",
      "Agentic AI systems are distinguished by several core characteristics:\n",
      "\n",
      "\n",
      "\n",
      "\n",
      "\n",
      "Autonomy: Agentic AI can operate independently, making decisions based on its goals and environmental inputs without requiring explicit human instructions for every action.\n",
      "\n",
      "\n",
      "\n",
      "Goal-Directed Behavior: These systems are designed to pursue specific objectives, whether short-term (e.g., completing a task) or long-term (e.g., optimizing a process over time).\n",
      "\n",
      "\n",
      "\n",
      "Adaptability: Agentic AI can learn from its environment, updating its knowledge and strategies to handle new or unforeseen situations.\n",
      "\n",
      "\n",
      "\n",
      "Proactivity: Unlike reactive systems that respond only to immediate stimuli, agentic AI anticipates future states and takes initiative to achieve desired outcomes.\n",
      "\n",
      "\n",
      "\n",
      "Interaction with Environments: Agentic AI engages with physical or digital environments, using sensors, actuators, or data interfaces to perceive and act upon the world.\n",
      "\n",
      "\n",
      "\n",
      "Reasoning and Decision-Making: These systems employ advanced reasoning capabilities, often integrating multiple data sources and models to make informed decisions.\n",
      "\n",
      "Agentic AI vs. Traditional AI\n",
      "\n",
      "Traditional AI systems, such as rule-based expert systems or early machine learning models, typically operate within narrow, predefined boundaries. For example, a traditional AI might excel at image recognition but lack the ability to adapt to new tasks outside its training scope. In contrast, agentic AI is designed to be more general-purpose, capable of handling diverse tasks by reasoning, learning, and adapting in real time. This shift from narrow to general intelligence is a hallmark of agentic AI, aligning it closer to the concept of Artificial General Intelligence (AGI), though most current agentic systems remain task-specific.\n",
      "\n",
      "The Technological Foundations of Agentic AI\n",
      "\n",
      "Agentic AI is built upon a combination of advanced technologies that enable its autonomous and adaptive capabilities. These include:\n",
      "--------------------------------------------------\n",
      "documents 3\n",
      "The Technological Foundations of Agentic AI\n",
      "\n",
      "Agentic AI is built upon a combination of advanced technologies that enable its autonomous and adaptive capabilities. These include:\n",
      "\n",
      "1. Machine Learning and Deep Learning\n",
      "\n",
      "Machine learning (ML) and deep learning (DL) form the backbone of agentic AI, enabling systems to learn patterns, make predictions, and improve performance over time. Reinforcement learning (RL), a subset of ML, is particularly critical for agentic AI. In RL, an agent learns by interacting with its environment, receiving rewards or penalties based on its actions. This trial-and-error approach allows the agent to optimize its behavior to achieve specific goals, making it well-suited for tasks requiring autonomy and adaptability.\n",
      "\n",
      "For example, DeepMind’s AlphaGo used reinforcement learning to master the game of Go, autonomously exploring strategies and improving its performance through simulated games. Similarly, agentic AI systems in robotics or autonomous vehicles rely on RL to navigate complex environments.\n",
      "\n",
      "2. Natural Language Processing (NLP)\n",
      "\n",
      "Natural Language Processing enables agentic AI to understand and generate human language, facilitating seamless interaction with users and other systems. Advanced NLP models, such as large language models (LLMs) like GPT-4 or Grok, empower agentic AI to interpret complex instructions, engage in dialogue, and generate contextually relevant responses. For instance, an agentic AI assistant might use NLP to interpret a user’s vague request, clarify ambiguities, and execute a multi-step task.\n",
      "\n",
      "3. Computer Vision\n",
      "--------------------------------------------------\n",
      "documents 4\n",
      "3. Computer Vision\n",
      "\n",
      "Computer vision allows agentic AI to perceive and interpret visual information from the environment, such as images, videos, or sensor data. This capability is essential for applications like autonomous vehicles, drones, or robotic assistants, where the AI must navigate physical spaces, avoid obstacles, and recognize objects. Techniques like convolutional neural networks (CNNs) and object detection algorithms enable robust visual perception.\n",
      "\n",
      "4. Multi-Agent Systems\n",
      "\n",
      "In many scenarios, agentic AI operates as part of a multi-agent system, where multiple AI agents collaborate or compete to achieve collective or individual goals. For example, in supply chain optimization, multiple agentic AI systems might coordinate to manage inventory, logistics, and demand forecasting. Multi-agent systems rely on communication protocols, game theory, and distributed computing to ensure efficient collaboration.\n",
      "\n",
      "5. Knowledge Representation and Reasoning\n",
      "\n",
      "Agentic AI often incorporates knowledge representation techniques, such as ontologies or knowledge graphs, to store and organize information about the world. Combined with reasoning algorithms, these systems can draw inferences, make decisions, and solve problems in a structured manner. For example, an agentic AI in healthcare might use a knowledge graph to reason about patient symptoms, medical histories, and treatment options.\n",
      "\n",
      "6. Sensor and Actuator Integration\n",
      "\n",
      "For physical applications, agentic AI integrates with sensors (e.g., cameras, LIDAR, or temperature sensors) to perceive the environment and actuators (e.g., motors, robotic arms) to perform actions. This hardware-software integration is critical for applications like robotics, where the AI must interact with the physical world in real time.\n",
      "--------------------------------------------------\n"
     ]
    }
   ],
   "source": [
    "query = \"What is the key characteristics of agentic AI?\"\n",
    "docs = vectorstore.similarity_search(query, k=4)\n",
    "\n",
    "\n",
    "for i, doc in enumerate(docs):\n",
    "    print(f\"documents {i+1}\")\n",
    "    print(doc.page_content)\n",
    "    print(\"-\"*50)"
   ]
  },
  {
   "cell_type": "code",
   "execution_count": 15,
   "id": "1016c6f2",
   "metadata": {},
   "outputs": [],
   "source": [
    "from langchain.prompts import ChatPromptTemplate\n",
    "\n",
    "template=\"\"\"\n",
    "You are an assistant for Q&A tasks.\n",
    "Use the following pieces of retrieved context to answer the question.\n",
    "If you don't know the answer, just say that you don't know.\n",
    "Use ten sentences maximum and keep the answer concise.\n",
    "Question: {question}\n",
    "Context: {context}\n",
    "\"\"\""
   ]
  },
  {
   "cell_type": "code",
   "execution_count": 16,
   "id": "0b9f3b59",
   "metadata": {},
   "outputs": [],
   "source": [
    "prompt = ChatPromptTemplate.from_template(template)"
   ]
  },
  {
   "cell_type": "code",
   "execution_count": 17,
   "id": "8241fbbb",
   "metadata": {},
   "outputs": [
    {
     "data": {
      "text/plain": [
       "ChatPromptTemplate(input_variables=['context', 'question'], input_types={}, partial_variables={}, messages=[HumanMessagePromptTemplate(prompt=PromptTemplate(input_variables=['context', 'question'], input_types={}, partial_variables={}, template=\"\\nYou are an assistant for Q&A tasks.\\nUse the following pieces of retrieved context to answer the question.\\nIf you don't know the answer, just say that you don't know.\\nUse ten sentences maximum and keep the answer concise.\\nQuestion: {question}\\nContext: {context}\\n\"), additional_kwargs={})])"
      ]
     },
     "execution_count": 17,
     "metadata": {},
     "output_type": "execute_result"
    }
   ],
   "source": [
    "prompt"
   ]
  },
  {
   "cell_type": "code",
   "execution_count": 18,
   "id": "1cdff08e",
   "metadata": {},
   "outputs": [],
   "source": [
    "from langchain.schema.output_parser import StrOutputParser\n",
    "output_parser = StrOutputParser()"
   ]
  },
  {
   "cell_type": "code",
   "execution_count": 19,
   "id": "1e7808d7",
   "metadata": {},
   "outputs": [],
   "source": [
    "from langchain_google_genai import ChatGoogleGenerativeAI"
   ]
  },
  {
   "cell_type": "code",
   "execution_count": 34,
   "id": "79f068a5",
   "metadata": {},
   "outputs": [
    {
     "name": "stderr",
     "output_type": "stream",
     "text": [
      "E0000 00:00:1760422982.035771   17138 alts_credentials.cc:93] ALTS creds ignored. Not running on GCP and untrusted ALTS is not enabled.\n"
     ]
    }
   ],
   "source": [
    "model = ChatGoogleGenerativeAI(model=\"gemini-2.5-flash\")"
   ]
  },
  {
   "cell_type": "code",
   "execution_count": 35,
   "id": "13c1d87f",
   "metadata": {},
   "outputs": [],
   "source": [
    "from langchain.schema.runnable import Runnable\n",
    "\n",
    "class ExtractQuestion(Runnable):\n",
    "    \"\"\"Runnable that extracts the 'question' field from an input dict and returns it as a string.\"\"\"\n",
    "\n",
    "    def invoke(self, input, run_manager=None, **kwargs):\n",
    "        # handle when input is a mapping-like object\n",
    "        try:\n",
    "            return input[\"question\"]\n",
    "        except Exception:\n",
    "            raise TypeError(\"Expected input to be a dict with a 'question' key\")\n",
    "\n",
    "# Create an instance to use in the chain\n",
    "input_mapper = ExtractQuestion()\n",
    "\n",
    "# Use the same mapper for the retriever's input (so retriever receives a string)\n",
    "chain = (\n",
    "    {\"context\": input_mapper | retriever, \"question\": input_mapper} | prompt | model | output_parser\n",
    ")\n"
   ]
  },
  {
   "cell_type": "code",
   "execution_count": 36,
   "id": "f8d043de",
   "metadata": {},
   "outputs": [
    {
     "data": {
      "text/plain": [
       "'Agentic AI systems are defined by several core characteristics. They exhibit autonomy, operating independently and making decisions based on goals and environmental inputs without constant human instruction. These systems display goal-directed behavior, pursuing specific objectives over short or long terms. Adaptability is crucial, as agentic AI learns from its environment to update knowledge and strategies for new situations.\\n\\nFurthermore, they are proactive, anticipating future states and taking initiative rather than merely reacting to stimuli. Agentic AI interacts with its environments, utilizing sensors or data interfaces to perceive and act upon the world. Finally, these systems possess advanced reasoning and decision-making capabilities, integrating multiple data sources to make informed choices.'"
      ]
     },
     "execution_count": 36,
     "metadata": {},
     "output_type": "execute_result"
    }
   ],
   "source": [
    "chain.invoke({\"question\":\"What is the key characteristics of agentic AI?\"})"
   ]
  },
  {
   "cell_type": "code",
   "execution_count": null,
   "id": "3aa9eb4c",
   "metadata": {},
   "outputs": [],
   "source": []
  }
 ],
 "metadata": {
  "kernelspec": {
   "display_name": "rag-lloops",
   "language": "python",
   "name": "python3"
  },
  "language_info": {
   "codemirror_mode": {
    "name": "ipython",
    "version": 3
   },
   "file_extension": ".py",
   "mimetype": "text/x-python",
   "name": "python",
   "nbconvert_exporter": "python",
   "pygments_lexer": "ipython3",
   "version": "3.12.3"
  }
 },
 "nbformat": 4,
 "nbformat_minor": 5
}
